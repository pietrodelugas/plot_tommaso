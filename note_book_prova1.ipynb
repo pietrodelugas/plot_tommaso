{
 "cells": [
  {
   "cell_type": "code",
   "execution_count": 1,
   "metadata": {},
   "outputs": [],
   "source": [
    "import imp\n",
    "from plt_bulk import bulk_disp\n",
    "import numpy as np\n",
    "from collections import deque\n",
    "from matplotlib import pyplot as plt\n",
    "alat = 14.5533"
   ]
  },
  {
   "cell_type": "code",
   "execution_count": 7,
   "metadata": {},
   "outputs": [
    {
     "data": {
      "text/plain": [
       "(list, [0.0, 0.0, 3.29, 0.57, 0.0, -0.07, 0.0, 0.0, 0.0, 0.0, 0.0])"
      ]
     },
     "execution_count": 7,
     "metadata": {},
     "output_type": "execute_result"
    }
   ],
   "source": [
    "param = np.zeros(11)\n",
    "param[0] = 2.0 \n",
    "param[1] = 2.0 \n",
    "param[2] = -0.5 \n",
    "param[3] = -0.15\n",
    "param[5] = +0.05\n",
    "\n",
    "param_k = [0.0,0.0, 3.29, 0.57, 0.0, -0.07, 0.19, 0.31, 0.47, 0.0, 0.04]\n",
    "param_k_noil = param_k[:6] + 5*[0.] \n",
    "type(param_k_noil[6:]) ,param_k_noil\n"
   ]
  },
  {
   "cell_type": "code",
   "execution_count": 8,
   "metadata": {},
   "outputs": [],
   "source": [
    "direct = np.array([[  0.445836 , -0.257404 ,  0.857306],   \n",
    "                   [ 0.000000  , 0.514807  , 0.857306 ], \n",
    "                   [-0.445836  , -0.257404 , 0.857306 ]])\n",
    "\n",
    "recip = np.array([[ 1.121488, -0.647491,  0.388815],  \n",
    "                  [ -0.000000,  1.294983, 0.388815],  \n",
    "                  [ -1.121488, -0.647491,  0.388815]] ) "
   ]
  },
  {
   "cell_type": "code",
   "execution_count": 158,
   "metadata": {},
   "outputs": [],
   "source": [
    "inp = {\n",
    "\t\t\t 'param':-np.array(param_k), \n",
    "\t\t\t 'S':3.0/2.0}\n",
    "k = np.array([1./3.,-1./3.,0.0])\n",
    "zs = np.array([0.3333333,0.333333,0.3333333])\n",
    "gk0 = [bulk_disp(*(c*k+3*zs), branch=0,**inp) for c in np.linspace(0.9,1.1,num=120)] \n",
    "gk1 = [bulk_disp(*(c*k+3*zs), branch=1,**inp) for c in np.linspace(0.9,1.1,num=120)]\n",
    "K = k.dot(recip)\n",
    "h1 = np.array([1,-1,0]).dot(direct)\n",
    "a_hex = np.sqrt((h1.dot(h1)))\n",
    "sk = np.sqrt(K.dot(K))/a_hex\n",
    "gkascissa = [c*sk for c in np.linspace(0.9,1.1,num=120)]\n"
   ]
  },
  {
   "cell_type": "code",
   "execution_count": 140,
   "metadata": {},
   "outputs": [
    {
     "data": {
      "text/plain": [
       "0.9999998971699365"
      ]
     },
     "execution_count": 140,
     "metadata": {},
     "output_type": "execute_result"
    }
   ],
   "source": [
    "zs.dot(recip).dot(direct[0]+direct[1]+direct[2])"
   ]
  },
  {
   "cell_type": "code",
   "execution_count": null,
   "metadata": {},
   "outputs": [
    {
     "data": {
      "text/plain": [
       "NoneType"
      ]
     },
     "execution_count": 160,
     "metadata": {},
     "output_type": "execute_result"
    }
   ],
   "source": [
    "type(dict.update(inp,{'branch':0}))"
   ]
  },
  {
   "cell_type": "code",
   "execution_count": null,
   "metadata": {},
   "outputs": [
    {
     "data": {
      "text/plain": [
       "array([0.74765867, 0.        , 0.        ])"
      ]
     },
     "execution_count": 161,
     "metadata": {},
     "output_type": "execute_result"
    }
   ],
   "source": [
    "K = k.dot(recip)  \n",
    "m1 = np.sqrt(K.dot(K))\n",
    "Kp = recip[0] -recip[2]\n",
    "m2 = np.sqrt(Kp.dot(Kp))\n",
    "Kp/3.0 "
   ]
  },
  {
   "cell_type": "code",
   "execution_count": null,
   "metadata": {},
   "outputs": [
    {
     "data": {
      "text/plain": [
       "1.0000000678739978"
      ]
     },
     "execution_count": 162,
     "metadata": {},
     "output_type": "execute_result"
    }
   ],
   "source": [
    "np.sqrt(direct[0].dot(direct[0]))"
   ]
  },
  {
   "cell_type": "code",
   "execution_count": 159,
   "metadata": {},
   "outputs": [
    {
     "data": {
      "image/png": "[encoded data removed]",
      "text/plain": [
       "<Figure size 432x288 with 1 Axes>"
      ]
     },
     "metadata": {
      "needs_background": "light"
     },
     "output_type": "display_data"
    }
   ],
   "source": [
    "from matplotlib.pyplot import tick_params\n",
    "\n",
    "\n",
    "plt.plot(gkascissa,gk0)\n",
    "plt.plot(gkascissa,gk1)\n",
    "plt.grid (b=True, axis='x')\n",
    "plt.xticks([sk],['K'], size=24)\n",
    "plt.tick_params(grid_linewidth=4)"
   ]
  },
  {
   "cell_type": "code",
   "execution_count": 177,
   "metadata": {},
   "outputs": [
    {
     "data": {
      "text/plain": [
       "array([[ 0.0445836,  0.       , -0.0445836],\n",
       "       [-0.0257404,  0.0514807, -0.0257404],\n",
       "       [ 0.0857306,  0.0857306,  0.0857306]])"
      ]
     },
     "execution_count": 177,
     "metadata": {},
     "output_type": "execute_result"
    }
   ],
   "source": [
    "d = np.array([[0.1,0.0,0.0],[0.0,0.1,0.0],[0.0,0.0,0.1]])\n",
    "d_frac= direct.T.dot(d)\n",
    "d_frac"
   ]
  },
  {
   "cell_type": "code",
   "execution_count": 211,
   "metadata": {},
   "outputs": [],
   "source": [
    "\n",
    "dodline = lambda dir,branch: [bulk_disp(*(k+c*d_frac[dir]), **inp, branch=branch) for c in np.linspace(-1.0,1.0,20)]\n",
    "gdx1 = dodline(dir=0,branch=0)\n",
    "gdx2 = dodline(dir=0,branch=1)"
   ]
  },
  {
   "cell_type": "code",
   "execution_count": 212,
   "metadata": {},
   "outputs": [
    {
     "data": {
      "text/plain": [
       "[<matplotlib.lines.Line2D at 0x7f03d2a8d190>]"
      ]
     },
     "execution_count": 212,
     "metadata": {},
     "output_type": "execute_result"
    },
    {
     "data": {
      "image/png": "[encoded data removed]",
      "text/plain": [
       "<Figure size 432x288 with 1 Axes>"
      ]
     },
     "metadata": {
      "needs_background": "light"
     },
     "output_type": "display_data"
    }
   ],
   "source": [
    "plt.plot(np.linspace(0,1,20), gdx2)\n",
    "plt.plot(np.linspace(0,1,20), gdx1)"
   ]
  },
  {
   "cell_type": "code",
   "execution_count": 34,
   "metadata": {},
   "outputs": [
    {
     "name": "stdout",
     "output_type": "stream",
     "text": [
      "0.4714045207910317\n"
     ]
    },
    {
     "data": {
      "text/plain": [
       "1.7561295500557024"
      ]
     },
     "execution_count": 34,
     "metadata": {},
     "output_type": "execute_result"
    }
   ],
   "source": [
    "print(np.sqrt(k.dot(k)))\n",
    "K = k.dot(recip)\n",
    "np.pi*(np.sqrt(K.dot(K)))**2\n"
   ]
  },
  {
   "cell_type": "code",
   "execution_count": 42,
   "metadata": {},
   "outputs": [
    {
     "data": {
      "text/plain": [
       "4.0562807226633115"
      ]
     },
     "execution_count": 42,
     "metadata": {},
     "output_type": "execute_result"
    }
   ],
   "source": [
    "direct[0].dot(direct[0])\n",
    "np.sqrt(recip[0].dot(recip[0]))"
   ]
  },
  {
   "cell_type": "code",
   "execution_count": null,
   "metadata": {},
   "outputs": [],
   "source": []
  }
 ],
 "metadata": {
  "kernelspec": {
   "display_name": "Python 3.8.10 64-bit",
   "language": "python",
   "name": "python3"
  },
  "language_info": {
   "codemirror_mode": {
    "name": "ipython",
    "version": 3
   },
   "file_extension": ".py",
   "mimetype": "text/x-python",
   "name": "python",
   "nbconvert_exporter": "python",
   "pygments_lexer": "ipython3",
   "version": "3.8.10"
  },
  "orig_nbformat": 4,
  "vscode": {
   "interpreter": {
    "hash": "31f2aee4e71d21fbe5cf8b01ff0e069b9275f58929596ceb00d14d90e3e16cd6"
   }
  }
 },
 "nbformat": 4,
 "nbformat_minor": 2
}
