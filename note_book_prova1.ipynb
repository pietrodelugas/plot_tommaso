{
 "cells": [
  {
   "cell_type": "code",
   "execution_count": 34,
   "metadata": {},
   "outputs": [],
   "source": [
    "import imp\n",
    "from plt_bulk import bulk_disp\n",
    "import numpy as np\n",
    "from collections import deque\n",
    "from matplotlib import pyplot as plt\n",
    "alat = 14.5533"
   ]
  },
  {
   "cell_type": "code",
   "execution_count": 18,
   "metadata": {},
   "outputs": [
    {
     "data": {
      "text/plain": [
       "(list, [0.0, 0.0, 3.29, 0.57, 0.0, -0.07, 0.0, 0.0, 0.0, 0.0, 0.0])"
      ]
     },
     "execution_count": 18,
     "metadata": {},
     "output_type": "execute_result"
    }
   ],
   "source": [
    "param = np.zeros(11)\n",
    "param[0] = 2.0 \n",
    "param[1] = 2.0 \n",
    "param[2] = -0.5 \n",
    "param[3] = -0.15\n",
    "param[5] = +0.05\n",
    "\n",
    "param_k = [0.0,0.0, 3.29, 0.57, 0.0, -0.07, 0.19, 0.31, 0.47, 0.0, 0.04]\n",
    "param_k_noil = param_k[:6] + 5*[0.] \n",
    "type(param_k_noil[6:]) ,param_k_noil\n"
   ]
  },
  {
   "cell_type": "code",
   "execution_count": 19,
   "metadata": {},
   "outputs": [],
   "source": [
    "direct = np.array([[  0.445836 , -0.257404 ,  0.857306],   \n",
    "                   [ 0.000000  , 0.514807  , 0.857306 ], \n",
    "                   [-0.445836  , -0.257404 , 0.857306 ]])\n",
    "\n",
    "recip = np.array([[ 1.121488, -0.647491,  0.388815],  \n",
    "                  [ -0.000000,  1.294983, 0.388815],  \n",
    "                  [ -1.121488, -0.647491,  0.388815]] ) "
   ]
  },
  {
   "cell_type": "code",
   "execution_count": 20,
   "metadata": {},
   "outputs": [],
   "source": [
    "inp = {\n",
    "\t\t\t 'param':-np.array(param_k), \n",
    "\t\t\t 'S':3.0/2.0}\n",
    "k = np.array([1./3.,-1./3.,0.0])\n",
    "zs = np.array([0.3333333,0.333333,0.3333333])\n",
    "gk0 = [bulk_disp(*(c*k+3*zs), branch=0,**inp) for c in np.linspace(0.9,1.1,num=120)] \n",
    "gk1 = [bulk_disp(*(c*k+3*zs), branch=1,**inp) for c in np.linspace(0.9,1.1,num=120)]\n",
    "K = k.dot(recip)\n",
    "h1 = np.array([1,-1,0]).dot(direct)\n",
    "a_hex = np.sqrt((h1.dot(h1)))\n",
    "sk = np.sqrt(K.dot(K))/a_hex\n",
    "gkascissa = [c*sk for c in np.linspace(0.9,1.1,num=120)]"
   ]
  },
  {
   "cell_type": "code",
   "execution_count": 21,
   "metadata": {},
   "outputs": [
    {
     "data": {
      "text/plain": [
       "0.9999998971699365"
      ]
     },
     "execution_count": 21,
     "metadata": {},
     "output_type": "execute_result"
    }
   ],
   "source": [
    "zs.dot(recip).dot(direct[0]+direct[1]+direct[2])"
   ]
  },
  {
   "cell_type": "code",
   "execution_count": 22,
   "metadata": {},
   "outputs": [
    {
     "data": {
      "text/plain": [
       "array([0.74765867, 0.        , 0.        ])"
      ]
     },
     "execution_count": 22,
     "metadata": {},
     "output_type": "execute_result"
    }
   ],
   "source": [
    "K = k.dot(recip)  \n",
    "m1 = np.sqrt(K.dot(K))\n",
    "Kp = recip[0] -recip[2]\n",
    "m2 = np.sqrt(Kp.dot(Kp))\n",
    "Kp/3.0 "
   ]
  },
  {
   "cell_type": "code",
   "execution_count": 23,
   "metadata": {},
   "outputs": [
    {
     "data": {
      "text/plain": [
       "1.0000000678739978"
      ]
     },
     "execution_count": 23,
     "metadata": {},
     "output_type": "execute_result"
    }
   ],
   "source": [
    "np.sqrt(direct[0].dot(direct[0]))"
   ]
  },
  {
   "cell_type": "code",
   "execution_count": 24,
   "metadata": {},
   "outputs": [
    {
     "data": {
      "image/png": "[encoded data removed]",
      "text/plain": [
       "<Figure size 432x288 with 1 Axes>"
      ]
     },
     "metadata": {
      "needs_background": "light"
     },
     "output_type": "display_data"
    }
   ],
   "source": [
    "from matplotlib.pyplot import tick_params\n",
    "\n",
    "\n",
    "plt.plot(gkascissa,gk0)\n",
    "plt.plot(gkascissa,gk1)\n",
    "plt.grid (b=True, axis='x')\n",
    "plt.xticks([sk],['K'], size=24)\n",
    "plt.tick_params(grid_linewidth=4)"
   ]
  },
  {
   "cell_type": "code",
   "execution_count": 25,
   "metadata": {},
   "outputs": [
    {
     "data": {
      "text/plain": [
       "array([[ 0.0445836,  0.       , -0.0445836],\n",
       "       [-0.0257404,  0.0514807, -0.0257404],\n",
       "       [ 0.0857306,  0.0857306,  0.0857306]])"
      ]
     },
     "execution_count": 25,
     "metadata": {},
     "output_type": "execute_result"
    }
   ],
   "source": [
    "d = np.array([[0.1,0.0,0.0],[0.0,0.1,0.0],[0.0,0.0,0.1]])\n",
    "d_frac= direct.T.dot(d)\n",
    "d_frac"
   ]
  },
  {
   "cell_type": "code",
   "execution_count": 49,
   "metadata": {},
   "outputs": [
    {
     "data": {
      "text/plain": [
       "(0.40360872141225457,\n",
       " [4.635678564789611,\n",
       "  4.247035087240484,\n",
       "  3.848187336637693,\n",
       "  3.4395700866409484,\n",
       "  3.021659971971644,\n",
       "  2.595004329642485,\n",
       "  2.1602871887282937,\n",
       "  1.7185016089740373,\n",
       "  1.271496341062445,\n",
       "  0.8243420433284498,\n",
       "  0.40360872141225457,\n",
       "  0.29435934494913596,\n",
       "  0.6850460127160325,\n",
       "  1.152343540299654,\n",
       "  1.6364729635911779,\n",
       "  2.129259042782607,\n",
       "  2.6281916324840715,\n",
       "  3.1320464102811556,\n",
       "  3.6400188304635677,\n",
       "  4.151474402694099,\n",
       "  4.665858455776672])"
      ]
     },
     "execution_count": 49,
     "metadata": {},
     "output_type": "execute_result"
    }
   ],
   "source": [
    "\n",
    "from __future__ import barry_as_FLUFL\n",
    "from pyrsistent import b\n",
    "\n",
    "\n",
    "dodline = lambda dir,branch: [bulk_disp(*(k+c*d_frac[dir]),branch=branch, **inp) for c in np.linspace(-1.0,1.0,21)]\n",
    "gap = lambda q,inp_: bulk_disp(*q,branch=1,**inp_)-bulk_disp(*q,branch=0, **inp_)\n",
    "gapline = lambda dir,inp_=inp:[gap(k+c*d_frac[dir],inp_) for c in np.linspace(-1.0,1.0,21)]\n",
    "\n",
    "gdx1 = dodline(dir=0,branch=0)\n",
    "gdx2 = dodline(dir=0,branch=1)\n",
    "gdy1 = dodline(dir=1,branch=0)\n",
    "gdy2 = dodline(dir=1,branch=1)\n",
    "gap1 = gapline(0)\n",
    "\n",
    "gap(k,inp),gap1"
   ]
  },
  {
   "cell_type": "code",
   "execution_count": 55,
   "metadata": {},
   "outputs": [
    {
     "data": {
      "text/plain": [
       "[<matplotlib.lines.Line2D at 0x7f4ff68050a0>]"
      ]
     },
     "execution_count": 55,
     "metadata": {},
     "output_type": "execute_result"
    },
    {
     "data": {
      "image/png": "[encoded data removed]",
      "text/plain": [
       "<Figure size 432x288 with 1 Axes>"
      ]
     },
     "metadata": {
      "needs_background": "light"
     },
     "output_type": "display_data"
    }
   ],
   "source": [
    "#plt.plot(np.linspace(-1,1,21), gdx2,marker='o')\n",
    "#plt.plot(np.linspace(-1,1,21), gdx1, marker='o')\n",
    "#plt.plot(np.linspace(-1,1,21), gdy1, marker='o')\n",
    "#plt.plot(np.linspace(-1,1,21), gdy2, marker='o')\n",
    "plt.plot(np.linspace(-1,1,21), gapline(0), marker='s')\n",
    "plt.plot(np.linspace(-1,1,21),gapline(1), marker='^')"
   ]
  },
  {
   "cell_type": "code",
   "execution_count": 28,
   "metadata": {},
   "outputs": [
    {
     "name": "stdout",
     "output_type": "stream",
     "text": [
      "0.4714045207910317\n"
     ]
    },
    {
     "data": {
      "text/plain": [
       "1.7561295500557024"
      ]
     },
     "execution_count": 28,
     "metadata": {},
     "output_type": "execute_result"
    }
   ],
   "source": [
    "def dgdx(p,d):\n",
    "  \n"
   ]
  },
  {
   "cell_type": "code",
   "execution_count": 29,
   "metadata": {},
   "outputs": [
    {
     "data": {
      "text/plain": [
       "1.352093574221104"
      ]
     },
     "execution_count": 29,
     "metadata": {},
     "output_type": "execute_result"
    }
   ],
   "source": [
    "direct[0].dot(direct[0])\n",
    "np.sqrt(recip[0].dot(recip[0]))"
   ]
  },
  {
   "cell_type": "code",
   "execution_count": 30,
   "metadata": {},
   "outputs": [],
   "source": [
    "h,ks,l=k+0.1*d_frac[0]"
   ]
  },
  {
   "cell_type": "code",
   "execution_count": 31,
   "metadata": {},
   "outputs": [
    {
     "data": {
      "text/plain": [
       "(0.3377916933333333, -0.3333333333333333, -0.004458360000000001)"
      ]
     },
     "execution_count": 31,
     "metadata": {},
     "output_type": "execute_result"
    }
   ],
   "source": [
    "h,ks,l"
   ]
  },
  {
   "cell_type": "code",
   "execution_count": 32,
   "metadata": {},
   "outputs": [
    {
     "data": {
      "text/plain": [
       "{'param': array([-0.  , -0.  , -3.29, -0.57, -0.  ,  0.07, -0.19, -0.31, -0.47,\n",
       "        -0.  , -0.04]),\n",
       " 'S': 1.5}"
      ]
     },
     "execution_count": 32,
     "metadata": {},
     "output_type": "execute_result"
    }
   ],
   "source": [
    "inp"
   ]
  },
  {
   "cell_type": "code",
   "execution_count": null,
   "metadata": {},
   "outputs": [],
   "source": []
  }
 ],
 "metadata": {
  "kernelspec": {
   "display_name": "Python 3",
   "language": "python",
   "name": "python3"
  },
  "orig_nbformat": 4,
  "vscode": {
   "interpreter": {
    "hash": "31f2aee4e71d21fbe5cf8b01ff0e069b9275f58929596ceb00d14d90e3e16cd6"
   }
  }
 },
 "nbformat": 4,
 "nbformat_minor": 2
}
